{
  "cells": [
    {
      "cell_type": "markdown",
      "metadata": {
        "id": "SudGyRdFbPE6"
      },
      "source": [
        "## Ejercicio\n",
        "\n",
        "Escribir un programa que pregunte el nombre del usuario en la consola y después de que el usuario lo introduzca muestre por pantalla `<NOMBRE> tiene <n> letras`, donde `<NOMBRE>` es el nombre de usuario en mayúsculas y `<n>` es el número de letras que tienen el nombre."
      ]
    },
    {
      "cell_type": "markdown",
      "metadata": {
        "id": "pHI1tfIAbPE8"
      },
      "source": [
        "## Solución"
      ]
    },
    {
      "cell_type": "code",
      "execution_count": 1,
      "metadata": {
        "id": "Zly7EJd_bPE9",
        "outputId": "f206ac1f-e617-436a-c433-873fad5dc0a0",
        "colab": {
          "base_uri": "https://localhost:8080/"
        }
      },
      "outputs": [
        {
          "output_type": "stream",
          "name": "stdout",
          "text": [
            "¿Cómo te llamas? german \n",
            "GERMAN  tiene 7 letras\n"
          ]
        }
      ],
      "source": [
        "nombre = input(\"¿Cómo te llamas? \")\n",
        "print(nombre.upper() + \" tiene \" + str(len(nombre)) + \" letras\")"
      ]
    }
  ],
  "metadata": {
    "kernelspec": {
      "display_name": "Python 3",
      "language": "python",
      "name": "python3"
    },
    "language_info": {
      "codemirror_mode": {
        "name": "ipython",
        "version": 3
      },
      "file_extension": ".py",
      "mimetype": "text/x-python",
      "name": "python",
      "nbconvert_exporter": "python",
      "pygments_lexer": "ipython3",
      "version": "3.8.6-final"
    },
    "colab": {
      "provenance": []
    }
  },
  "nbformat": 4,
  "nbformat_minor": 0
}